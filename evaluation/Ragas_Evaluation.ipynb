{
 "cells": [
  {
   "cell_type": "code",
   "execution_count": 1,
   "id": "5dcff882",
   "metadata": {},
   "outputs": [],
   "source": [
    "import os\n",
    "import getpass"
   ]
  },
  {
   "cell_type": "markdown",
   "id": "c35a7f50",
   "metadata": {},
   "source": [
    "# Get API keys"
   ]
  },
  {
   "cell_type": "code",
   "execution_count": 2,
   "id": "4e6e2556",
   "metadata": {},
   "outputs": [],
   "source": [
    "os.environ[\"OPENAI_API_KEY\"] = getpass.getpass(\"Enter your OpenAI API key: \")"
   ]
  },
  {
   "cell_type": "code",
   "execution_count": 3,
   "id": "743c70ba",
   "metadata": {},
   "outputs": [],
   "source": [
    "os.environ[\"COHERE_API_KEY\"] = getpass.getpass(\"Cohere API Key:\")"
   ]
  },
  {
   "cell_type": "markdown",
   "id": "5ac92edd",
   "metadata": {},
   "source": [
    "# Load Data"
   ]
  },
  {
   "cell_type": "code",
   "execution_count": 4,
   "id": "79bd0689",
   "metadata": {},
   "outputs": [],
   "source": [
    "from langchain_community.document_loaders import DirectoryLoader\n",
    "from langchain_community.document_loaders import TextLoader\n",
    "\n",
    "\n",
    "path = \"./../data/\"\n",
    "loader = DirectoryLoader(path, glob=\"*.txt\", loader_cls=TextLoader)\n",
    "docs = loader.load()"
   ]
  },
  {
   "cell_type": "markdown",
   "id": "986d6d70",
   "metadata": {},
   "source": [
    "# Unrolled version of SDG for more flexibilty with testset distribution"
   ]
  },
  {
   "cell_type": "code",
   "execution_count": 7,
   "id": "9a860341",
   "metadata": {},
   "outputs": [],
   "source": [
    "from ragas.llms import LangchainLLMWrapper\n",
    "from ragas.embeddings import LangchainEmbeddingsWrapper\n",
    "\n",
    "from langchain_openai import ChatOpenAI\n",
    "from langchain_openai import OpenAIEmbeddings\n",
    "generator_llm = LangchainLLMWrapper(ChatOpenAI(model=\"gpt-4.1-nano\"))\n",
    "generator_embeddings = LangchainEmbeddingsWrapper(OpenAIEmbeddings())"
   ]
  },
  {
   "cell_type": "code",
   "execution_count": 6,
   "id": "45f95bb2",
   "metadata": {},
   "outputs": [
    {
     "data": {
      "text/plain": [
       "KnowledgeGraph(nodes: 0, relationships: 0)"
      ]
     },
     "execution_count": 6,
     "metadata": {},
     "output_type": "execute_result"
    }
   ],
   "source": [
    "from ragas.testset.graph import KnowledgeGraph\n",
    "\n",
    "kg = KnowledgeGraph()\n",
    "kg"
   ]
  },
  {
   "cell_type": "code",
   "execution_count": 12,
   "id": "47ee846e",
   "metadata": {},
   "outputs": [
    {
     "data": {
      "text/plain": [
       "KnowledgeGraph(nodes: 15, relationships: 0)"
      ]
     },
     "execution_count": 12,
     "metadata": {},
     "output_type": "execute_result"
    }
   ],
   "source": [
    "from ragas.testset.graph import Node, NodeType\n",
    "\n",
    "### NOTICE: We're using a subset of the data for this example - this is to keep costs/time down.\n",
    "for doc in docs[:15]:\n",
    "    kg.nodes.append(\n",
    "        Node(\n",
    "            type=NodeType.DOCUMENT,\n",
    "            properties={\"page_content\": doc.page_content, \"document_metadata\": doc.metadata}\n",
    "        )\n",
    "    )\n",
    "kg"
   ]
  },
  {
   "cell_type": "code",
   "execution_count": null,
   "id": "cd3b7070",
   "metadata": {},
   "outputs": [],
   "source": [
    "from ragas.testset.transforms import default_transforms, apply_transforms\n",
    "\n",
    "transformer_llm = generator_llm\n",
    "embedding_model = generator_embeddings\n",
    "\n",
    "default_transforms = default_transforms(documents=docs, llm=transformer_llm, embedding_model=embedding_model)\n",
    "apply_transforms(kg, default_transforms)\n",
    "kg"
   ]
  },
  {
   "cell_type": "code",
   "execution_count": null,
   "id": "2d5f67b0",
   "metadata": {},
   "outputs": [
    {
     "data": {
      "text/plain": [
       "KnowledgeGraph(nodes: 33, relationships: 360)"
      ]
     },
     "execution_count": 8,
     "metadata": {},
     "output_type": "execute_result"
    }
   ],
   "source": [
    "kg.save(\"product_data_kg.json\")\n",
    "product_data_kg = KnowledgeGraph.load(\"product_data_kg.json\")\n",
    "product_data_kg"
   ]
  },
  {
   "cell_type": "code",
   "execution_count": 11,
   "id": "9f97f1fc",
   "metadata": {},
   "outputs": [],
   "source": [
    "from ragas.testset import TestsetGenerator\n",
    "\n",
    "generator = TestsetGenerator(llm=generator_llm, embedding_model=embedding_model, knowledge_graph=product_data_kg)"
   ]
  },
  {
   "cell_type": "code",
   "execution_count": 12,
   "id": "7f875293",
   "metadata": {},
   "outputs": [],
   "source": [
    "from ragas.testset.synthesizers import default_query_distribution, SingleHopSpecificQuerySynthesizer, MultiHopAbstractQuerySynthesizer, MultiHopSpecificQuerySynthesizer\n",
    "\n",
    "query_distribution = [\n",
    "        (SingleHopSpecificQuerySynthesizer(llm=generator_llm), 1) #not enough clusters for multi-hop\n",
    "]"
   ]
  },
  {
   "cell_type": "code",
   "execution_count": 13,
   "id": "d5b4d018",
   "metadata": {},
   "outputs": [
    {
     "data": {
      "application/vnd.jupyter.widget-view+json": {
       "model_id": "db949b1b0cf54ad4bce70da3e3e0e3c4",
       "version_major": 2,
       "version_minor": 0
      },
      "text/plain": [
       "Generating personas:   0%|          | 0/3 [00:00<?, ?it/s]"
      ]
     },
     "metadata": {},
     "output_type": "display_data"
    },
    {
     "data": {
      "application/vnd.jupyter.widget-view+json": {
       "model_id": "5610539f6d78483ebcc3b676fdb974b9",
       "version_major": 2,
       "version_minor": 0
      },
      "text/plain": [
       "Generating Scenarios:   0%|          | 0/1 [00:00<?, ?it/s]"
      ]
     },
     "metadata": {},
     "output_type": "display_data"
    },
    {
     "data": {
      "application/vnd.jupyter.widget-view+json": {
       "model_id": "e65d25434f404a07856eaf8c6c74c03c",
       "version_major": 2,
       "version_minor": 0
      },
      "text/plain": [
       "Generating Samples:   0%|          | 0/25 [00:00<?, ?it/s]"
      ]
     },
     "metadata": {},
     "output_type": "display_data"
    },
    {
     "data": {
      "text/html": [
       "<div>\n",
       "<style scoped>\n",
       "    .dataframe tbody tr th:only-of-type {\n",
       "        vertical-align: middle;\n",
       "    }\n",
       "\n",
       "    .dataframe tbody tr th {\n",
       "        vertical-align: top;\n",
       "    }\n",
       "\n",
       "    .dataframe thead th {\n",
       "        text-align: right;\n",
       "    }\n",
       "</style>\n",
       "<table border=\"1\" class=\"dataframe\">\n",
       "  <thead>\n",
       "    <tr style=\"text-align: right;\">\n",
       "      <th></th>\n",
       "      <th>user_input</th>\n",
       "      <th>reference_contexts</th>\n",
       "      <th>reference</th>\n",
       "      <th>synthesizer_name</th>\n",
       "    </tr>\n",
       "  </thead>\n",
       "  <tbody>\n",
       "    <tr>\n",
       "      <th>0</th>\n",
       "      <td>In which countries is the Nacho Cheese Flavore...</td>\n",
       "      <td>[Product Information Summary UPC: 028400070560...</td>\n",
       "      <td>The Nacho Cheese Flavored Tortilla Chips produ...</td>\n",
       "      <td>single_hop_specifc_query_synthesizer</td>\n",
       "    </tr>\n",
       "    <tr>\n",
       "      <th>1</th>\n",
       "      <td>In which countries is the Nacho Cheese Flavore...</td>\n",
       "      <td>[Product Information Summary UPC: 028400070560...</td>\n",
       "      <td>The Nacho Cheese Flavored Tortilla Chips produ...</td>\n",
       "      <td>single_hop_specifc_query_synthesizer</td>\n",
       "    </tr>\n",
       "    <tr>\n",
       "      <th>2</th>\n",
       "      <td>Is the product available in France?</td>\n",
       "      <td>[Product Information Summary UPC: 028400070560...</td>\n",
       "      <td>Yes, the product is available in France, as in...</td>\n",
       "      <td>single_hop_specifc_query_synthesizer</td>\n",
       "    </tr>\n",
       "    <tr>\n",
       "      <th>3</th>\n",
       "      <td>Is Frito Lay the company that makes the Nacho ...</td>\n",
       "      <td>[Product Information Summary UPC: 028400070560...</td>\n",
       "      <td>Yes, Frito Lay is the manufacturer of the Nach...</td>\n",
       "      <td>single_hop_specifc_query_synthesizer</td>\n",
       "    </tr>\n",
       "    <tr>\n",
       "      <th>4</th>\n",
       "      <td>Is Frito Lay the company that makes the Nacho ...</td>\n",
       "      <td>[Product Information Summary UPC: 028400070560...</td>\n",
       "      <td>Yes, Nacho Cheese Flavored Tortilla Chips is a...</td>\n",
       "      <td>single_hop_specifc_query_synthesizer</td>\n",
       "    </tr>\n",
       "    <tr>\n",
       "      <th>5</th>\n",
       "      <td>What is OpenFoodFacts and how can it assist he...</td>\n",
       "      <td>[CONSUMER GUIDANCE This product summary is int...</td>\n",
       "      <td>OpenFoodFacts is a collaborative database that...</td>\n",
       "      <td>single_hop_specifc_query_synthesizer</td>\n",
       "    </tr>\n",
       "    <tr>\n",
       "      <th>6</th>\n",
       "      <td>What is OpenFoodFacts and how can it help me m...</td>\n",
       "      <td>[CONSUMER GUIDANCE This product summary is int...</td>\n",
       "      <td>OpenFoodFacts is a collaborative database that...</td>\n",
       "      <td>single_hop_specifc_query_synthesizer</td>\n",
       "    </tr>\n",
       "    <tr>\n",
       "      <th>7</th>\n",
       "      <td>What should I check for regarding the product ...</td>\n",
       "      <td>[CONSUMER GUIDANCE This product summary is int...</td>\n",
       "      <td>Consumers should refer to the actual product p...</td>\n",
       "      <td>single_hop_specifc_query_synthesizer</td>\n",
       "    </tr>\n",
       "    <tr>\n",
       "      <th>8</th>\n",
       "      <td>Can you tell me about the OpenFoodFacts databa...</td>\n",
       "      <td>[CONSUMER GUIDANCE This product summary is int...</td>\n",
       "      <td>This product summary is intended to help consu...</td>\n",
       "      <td>single_hop_specifc_query_synthesizer</td>\n",
       "    </tr>\n",
       "    <tr>\n",
       "      <th>9</th>\n",
       "      <td>What is OpenFoodFacts and how can I use it to ...</td>\n",
       "      <td>[CONSUMER GUIDANCE This product summary is int...</td>\n",
       "      <td>OpenFoodFacts is a collaborative database that...</td>\n",
       "      <td>single_hop_specifc_query_synthesizer</td>\n",
       "    </tr>\n",
       "    <tr>\n",
       "      <th>10</th>\n",
       "      <td>What is the significance of Israel being liste...</td>\n",
       "      <td>[Product Information Summary UPC: 038000138607...</td>\n",
       "      <td>The product Pringles Salt &amp; Vinegar is availab...</td>\n",
       "      <td>single_hop_specifc_query_synthesizer</td>\n",
       "    </tr>\n",
       "    <tr>\n",
       "      <th>11</th>\n",
       "      <td>Is Bolivia one of the countries where this pro...</td>\n",
       "      <td>[Product Information Summary UPC: 038000138607...</td>\n",
       "      <td>Yes, the product is available in Bolivia, alon...</td>\n",
       "      <td>single_hop_specifc_query_synthesizer</td>\n",
       "    </tr>\n",
       "    <tr>\n",
       "      <th>12</th>\n",
       "      <td>Is Israel a country where this product is avai...</td>\n",
       "      <td>[Product Information Summary UPC: 038000138607...</td>\n",
       "      <td>Yes, the product is available in Israel, as in...</td>\n",
       "      <td>single_hop_specifc_query_synthesizer</td>\n",
       "    </tr>\n",
       "    <tr>\n",
       "      <th>13</th>\n",
       "      <td>What is the significance of Bolivia being list...</td>\n",
       "      <td>[Product Information Summary UPC: 038000138607...</td>\n",
       "      <td>The product information summary indicates that...</td>\n",
       "      <td>single_hop_specifc_query_synthesizer</td>\n",
       "    </tr>\n",
       "    <tr>\n",
       "      <th>14</th>\n",
       "      <td>Why is Israel mentioned in the context of the ...</td>\n",
       "      <td>[Product Information Summary UPC: 038000138607...</td>\n",
       "      <td>The product is available in Israel, as indicat...</td>\n",
       "      <td>single_hop_specifc_query_synthesizer</td>\n",
       "    </tr>\n",
       "    <tr>\n",
       "      <th>15</th>\n",
       "      <td>How can I find detailed nutritional informatio...</td>\n",
       "      <td>[CONSUMER GUIDANCE This product summary is int...</td>\n",
       "      <td>For detailed nutritional information, user rev...</td>\n",
       "      <td>single_hop_specifc_query_synthesizer</td>\n",
       "    </tr>\n",
       "    <tr>\n",
       "      <th>16</th>\n",
       "      <td>Can you tell me about the OpenFoodFacts databa...</td>\n",
       "      <td>[CONSUMER GUIDANCE This product summary is int...</td>\n",
       "      <td>This product summary is intended to help consu...</td>\n",
       "      <td>single_hop_specifc_query_synthesizer</td>\n",
       "    </tr>\n",
       "    <tr>\n",
       "      <th>17</th>\n",
       "      <td>What is OpenFoodFacts?</td>\n",
       "      <td>[CONSUMER GUIDANCE This product summary is int...</td>\n",
       "      <td>OpenFoodFacts is a collaborative database that...</td>\n",
       "      <td>single_hop_specifc_query_synthesizer</td>\n",
       "    </tr>\n",
       "    <tr>\n",
       "      <th>18</th>\n",
       "      <td>What is the importance of CONSUMER GUIDANCE in...</td>\n",
       "      <td>[CONSUMER GUIDANCE This product summary is int...</td>\n",
       "      <td>CONSUMER GUIDANCE is intended to help consumer...</td>\n",
       "      <td>single_hop_specifc_query_synthesizer</td>\n",
       "    </tr>\n",
       "    <tr>\n",
       "      <th>19</th>\n",
       "      <td>Can you please provide me with the most up-to-...</td>\n",
       "      <td>[CONSUMER GUIDANCE This product summary is int...</td>\n",
       "      <td>This product summary is intended to help consu...</td>\n",
       "      <td>single_hop_specifc_query_synthesizer</td>\n",
       "    </tr>\n",
       "    <tr>\n",
       "      <th>20</th>\n",
       "      <td>What information is available about the availa...</td>\n",
       "      <td>[Product Information Summary UPC: 076840101344...</td>\n",
       "      <td>The product is available for purchase in the U...</td>\n",
       "      <td>single_hop_specifc_query_synthesizer</td>\n",
       "    </tr>\n",
       "    <tr>\n",
       "      <th>21</th>\n",
       "      <td>Is the product available in the United States?</td>\n",
       "      <td>[Product Information Summary UPC: 076840101344...</td>\n",
       "      <td>Yes, the product is available in the United St...</td>\n",
       "      <td>single_hop_specifc_query_synthesizer</td>\n",
       "    </tr>\n",
       "    <tr>\n",
       "      <th>22</th>\n",
       "      <td>Whaat is the main reason the product is not re...</td>\n",
       "      <td>[Product Information Summary UPC: 076840101344...</td>\n",
       "      <td>The product has received an \"E\" nutrition grad...</td>\n",
       "      <td>single_hop_specifc_query_synthesizer</td>\n",
       "    </tr>\n",
       "    <tr>\n",
       "      <th>23</th>\n",
       "      <td>What is Ben &amp; Jerry's Homemade Inc. known for ...</td>\n",
       "      <td>[Product Information Summary UPC: 076840101344...</td>\n",
       "      <td>Ben &amp; Jerry's Homemade Inc. is the manufacture...</td>\n",
       "      <td>single_hop_specifc_query_synthesizer</td>\n",
       "    </tr>\n",
       "    <tr>\n",
       "      <th>24</th>\n",
       "      <td>Whaaat is the main reason why people in the Un...</td>\n",
       "      <td>[Product Information Summary UPC: 076840101344...</td>\n",
       "      <td>Consumers with dietary concerns should note th...</td>\n",
       "      <td>single_hop_specifc_query_synthesizer</td>\n",
       "    </tr>\n",
       "  </tbody>\n",
       "</table>\n",
       "</div>"
      ],
      "text/plain": [
       "                                           user_input  \\\n",
       "0   In which countries is the Nacho Cheese Flavore...   \n",
       "1   In which countries is the Nacho Cheese Flavore...   \n",
       "2                 Is the product available in France?   \n",
       "3   Is Frito Lay the company that makes the Nacho ...   \n",
       "4   Is Frito Lay the company that makes the Nacho ...   \n",
       "5   What is OpenFoodFacts and how can it assist he...   \n",
       "6   What is OpenFoodFacts and how can it help me m...   \n",
       "7   What should I check for regarding the product ...   \n",
       "8   Can you tell me about the OpenFoodFacts databa...   \n",
       "9   What is OpenFoodFacts and how can I use it to ...   \n",
       "10  What is the significance of Israel being liste...   \n",
       "11  Is Bolivia one of the countries where this pro...   \n",
       "12  Is Israel a country where this product is avai...   \n",
       "13  What is the significance of Bolivia being list...   \n",
       "14  Why is Israel mentioned in the context of the ...   \n",
       "15  How can I find detailed nutritional informatio...   \n",
       "16  Can you tell me about the OpenFoodFacts databa...   \n",
       "17                             What is OpenFoodFacts?   \n",
       "18  What is the importance of CONSUMER GUIDANCE in...   \n",
       "19  Can you please provide me with the most up-to-...   \n",
       "20  What information is available about the availa...   \n",
       "21     Is the product available in the United States?   \n",
       "22  Whaat is the main reason the product is not re...   \n",
       "23  What is Ben & Jerry's Homemade Inc. known for ...   \n",
       "24  Whaaat is the main reason why people in the Un...   \n",
       "\n",
       "                                   reference_contexts  \\\n",
       "0   [Product Information Summary UPC: 028400070560...   \n",
       "1   [Product Information Summary UPC: 028400070560...   \n",
       "2   [Product Information Summary UPC: 028400070560...   \n",
       "3   [Product Information Summary UPC: 028400070560...   \n",
       "4   [Product Information Summary UPC: 028400070560...   \n",
       "5   [CONSUMER GUIDANCE This product summary is int...   \n",
       "6   [CONSUMER GUIDANCE This product summary is int...   \n",
       "7   [CONSUMER GUIDANCE This product summary is int...   \n",
       "8   [CONSUMER GUIDANCE This product summary is int...   \n",
       "9   [CONSUMER GUIDANCE This product summary is int...   \n",
       "10  [Product Information Summary UPC: 038000138607...   \n",
       "11  [Product Information Summary UPC: 038000138607...   \n",
       "12  [Product Information Summary UPC: 038000138607...   \n",
       "13  [Product Information Summary UPC: 038000138607...   \n",
       "14  [Product Information Summary UPC: 038000138607...   \n",
       "15  [CONSUMER GUIDANCE This product summary is int...   \n",
       "16  [CONSUMER GUIDANCE This product summary is int...   \n",
       "17  [CONSUMER GUIDANCE This product summary is int...   \n",
       "18  [CONSUMER GUIDANCE This product summary is int...   \n",
       "19  [CONSUMER GUIDANCE This product summary is int...   \n",
       "20  [Product Information Summary UPC: 076840101344...   \n",
       "21  [Product Information Summary UPC: 076840101344...   \n",
       "22  [Product Information Summary UPC: 076840101344...   \n",
       "23  [Product Information Summary UPC: 076840101344...   \n",
       "24  [Product Information Summary UPC: 076840101344...   \n",
       "\n",
       "                                            reference  \\\n",
       "0   The Nacho Cheese Flavored Tortilla Chips produ...   \n",
       "1   The Nacho Cheese Flavored Tortilla Chips produ...   \n",
       "2   Yes, the product is available in France, as in...   \n",
       "3   Yes, Frito Lay is the manufacturer of the Nach...   \n",
       "4   Yes, Nacho Cheese Flavored Tortilla Chips is a...   \n",
       "5   OpenFoodFacts is a collaborative database that...   \n",
       "6   OpenFoodFacts is a collaborative database that...   \n",
       "7   Consumers should refer to the actual product p...   \n",
       "8   This product summary is intended to help consu...   \n",
       "9   OpenFoodFacts is a collaborative database that...   \n",
       "10  The product Pringles Salt & Vinegar is availab...   \n",
       "11  Yes, the product is available in Bolivia, alon...   \n",
       "12  Yes, the product is available in Israel, as in...   \n",
       "13  The product information summary indicates that...   \n",
       "14  The product is available in Israel, as indicat...   \n",
       "15  For detailed nutritional information, user rev...   \n",
       "16  This product summary is intended to help consu...   \n",
       "17  OpenFoodFacts is a collaborative database that...   \n",
       "18  CONSUMER GUIDANCE is intended to help consumer...   \n",
       "19  This product summary is intended to help consu...   \n",
       "20  The product is available for purchase in the U...   \n",
       "21  Yes, the product is available in the United St...   \n",
       "22  The product has received an \"E\" nutrition grad...   \n",
       "23  Ben & Jerry's Homemade Inc. is the manufacture...   \n",
       "24  Consumers with dietary concerns should note th...   \n",
       "\n",
       "                        synthesizer_name  \n",
       "0   single_hop_specifc_query_synthesizer  \n",
       "1   single_hop_specifc_query_synthesizer  \n",
       "2   single_hop_specifc_query_synthesizer  \n",
       "3   single_hop_specifc_query_synthesizer  \n",
       "4   single_hop_specifc_query_synthesizer  \n",
       "5   single_hop_specifc_query_synthesizer  \n",
       "6   single_hop_specifc_query_synthesizer  \n",
       "7   single_hop_specifc_query_synthesizer  \n",
       "8   single_hop_specifc_query_synthesizer  \n",
       "9   single_hop_specifc_query_synthesizer  \n",
       "10  single_hop_specifc_query_synthesizer  \n",
       "11  single_hop_specifc_query_synthesizer  \n",
       "12  single_hop_specifc_query_synthesizer  \n",
       "13  single_hop_specifc_query_synthesizer  \n",
       "14  single_hop_specifc_query_synthesizer  \n",
       "15  single_hop_specifc_query_synthesizer  \n",
       "16  single_hop_specifc_query_synthesizer  \n",
       "17  single_hop_specifc_query_synthesizer  \n",
       "18  single_hop_specifc_query_synthesizer  \n",
       "19  single_hop_specifc_query_synthesizer  \n",
       "20  single_hop_specifc_query_synthesizer  \n",
       "21  single_hop_specifc_query_synthesizer  \n",
       "22  single_hop_specifc_query_synthesizer  \n",
       "23  single_hop_specifc_query_synthesizer  \n",
       "24  single_hop_specifc_query_synthesizer  "
      ]
     },
     "execution_count": 13,
     "metadata": {},
     "output_type": "execute_result"
    }
   ],
   "source": [
    "testset = generator.generate(testset_size=25, query_distribution=query_distribution)\n",
    "testset.to_pandas()"
   ]
  },
  {
   "cell_type": "markdown",
   "id": "1c921351",
   "metadata": {},
   "source": [
    "# Create Testsets for RAG Variants"
   ]
  },
  {
   "cell_type": "code",
   "execution_count": 15,
   "id": "f95a391d",
   "metadata": {},
   "outputs": [],
   "source": [
    "import copy\n",
    "\n",
    "ensemble_testset = copy.deepcopy(testset)\n",
    "naive_testset = copy.deepcopy(testset)\n",
    "bm25_testset = copy.deepcopy(testset)\n",
    "compression_testset = copy.deepcopy(testset)"
   ]
  },
  {
   "cell_type": "markdown",
   "id": "2bebd605",
   "metadata": {},
   "source": [
    "# Build Naive Graph"
   ]
  },
  {
   "cell_type": "code",
   "execution_count": null,
   "id": "cc1f152d",
   "metadata": {},
   "outputs": [],
   "source": [
    "import sys\n",
    "\n",
    "# Add the src directory to Python path\n",
    "src_path = os.path.abspath(os.path.join(os.getcwd(), '..', 'src'))\n",
    "sys.path.insert(0, src_path)\n",
    "\n",
    "# Now you can import from utils\n",
    "from utils.rag_graph import build_rag_graph"
   ]
  },
  {
   "cell_type": "code",
   "execution_count": 26,
   "id": "c204e524",
   "metadata": {},
   "outputs": [],
   "source": [
    "graph = build_rag_graph()"
   ]
  },
  {
   "cell_type": "markdown",
   "id": "4a3573e0",
   "metadata": {},
   "source": [
    "# Evaluate Naive Graph"
   ]
  },
  {
   "cell_type": "code",
   "execution_count": 18,
   "id": "1c73c4f7",
   "metadata": {},
   "outputs": [],
   "source": [
    "for test_row in naive_testset:\n",
    "  response = graph.invoke({\"question\" : test_row.eval_sample.user_input})\n",
    "  test_row.eval_sample.response = response[\"response\"]\n",
    "  test_row.eval_sample.retrieved_contexts = [context.page_content for context in response[\"context\"]]"
   ]
  },
  {
   "cell_type": "code",
   "execution_count": 19,
   "id": "19a15661",
   "metadata": {},
   "outputs": [],
   "source": [
    "from ragas import EvaluationDataset\n",
    "\n",
    "evaluation_dataset = EvaluationDataset.from_pandas(naive_testset.to_pandas())"
   ]
  },
  {
   "cell_type": "code",
   "execution_count": 20,
   "id": "95e23781",
   "metadata": {},
   "outputs": [],
   "source": [
    "from ragas.llms import LangchainLLMWrapper\n",
    "\n",
    "evaluator_llm = LangchainLLMWrapper(ChatOpenAI(model=\"gpt-4.1-mini\"))"
   ]
  },
  {
   "cell_type": "code",
   "execution_count": 22,
   "id": "fde912bd",
   "metadata": {},
   "outputs": [
    {
     "data": {
      "application/vnd.jupyter.widget-view+json": {
       "model_id": "e5e557a568274d389b431ba361b2fba0",
       "version_major": 2,
       "version_minor": 0
      },
      "text/plain": [
       "Evaluating:   0%|          | 0/150 [00:00<?, ?it/s]"
      ]
     },
     "metadata": {},
     "output_type": "display_data"
    },
    {
     "name": "stderr",
     "output_type": "stream",
     "text": [
      "Exception raised in Job[107]: InternalServerError(upstream connect error or disconnect/reset before headers. reset reason: connection termination)\n"
     ]
    }
   ],
   "source": [
    "from ragas.metrics import LLMContextRecall, Faithfulness, FactualCorrectness, ResponseRelevancy, ContextEntityRecall, NoiseSensitivity\n",
    "from ragas import evaluate, RunConfig\n",
    "\n",
    "custom_run_config = RunConfig(timeout=360)\n",
    "\n",
    "naive_result = evaluate(\n",
    "    dataset=evaluation_dataset,\n",
    "    metrics=[LLMContextRecall(), Faithfulness(), FactualCorrectness(), ResponseRelevancy(), ContextEntityRecall(), NoiseSensitivity()],\n",
    "    llm=evaluator_llm,\n",
    "    run_config=custom_run_config\n",
    ")"
   ]
  },
  {
   "cell_type": "code",
   "execution_count": 23,
   "id": "c0845e8f",
   "metadata": {},
   "outputs": [
    {
     "data": {
      "text/plain": [
       "{'context_recall': 0.7993, 'faithfulness': 0.7426, 'factual_correctness': 0.6244, 'answer_relevancy': 0.8102, 'context_entity_recall': 0.5970, 'noise_sensitivity_relevant': 0.1215}"
      ]
     },
     "execution_count": 23,
     "metadata": {},
     "output_type": "execute_result"
    }
   ],
   "source": [
    "naive_result"
   ]
  },
  {
   "cell_type": "markdown",
   "id": "b26f3270",
   "metadata": {},
   "source": [
    "# Build BM25 + Naive Ensemble Graph"
   ]
  },
  {
   "cell_type": "code",
   "execution_count": 24,
   "id": "a400ac1f",
   "metadata": {},
   "outputs": [],
   "source": [
    "from utils.ensemble_rag_graph import build_rag_graph\n",
    "\n",
    "ensemble_graph = build_rag_graph()"
   ]
  },
  {
   "cell_type": "markdown",
   "id": "0ff6260b",
   "metadata": {},
   "source": [
    "# Evaluate BM25 + Naive Ensemble Graph"
   ]
  },
  {
   "cell_type": "code",
   "execution_count": 25,
   "id": "56112109",
   "metadata": {},
   "outputs": [],
   "source": [
    "for test_row in ensemble_testset:\n",
    "  response = ensemble_graph.invoke({\"question\" : test_row.eval_sample.user_input})\n",
    "  test_row.eval_sample.response = response[\"response\"]\n",
    "  test_row.eval_sample.retrieved_contexts = [context.page_content for context in response[\"context\"]]"
   ]
  },
  {
   "cell_type": "code",
   "execution_count": 26,
   "id": "c824fa0f",
   "metadata": {},
   "outputs": [],
   "source": [
    "\n",
    "ensemble_evaluation_dataset = EvaluationDataset.from_pandas(ensemble_testset.to_pandas())"
   ]
  },
  {
   "cell_type": "code",
   "execution_count": 27,
   "id": "5349235b",
   "metadata": {},
   "outputs": [
    {
     "data": {
      "application/vnd.jupyter.widget-view+json": {
       "model_id": "18b0b0013e1943a38c5cc07b59ed8455",
       "version_major": 2,
       "version_minor": 0
      },
      "text/plain": [
       "Evaluating:   0%|          | 0/150 [00:00<?, ?it/s]"
      ]
     },
     "metadata": {},
     "output_type": "display_data"
    },
    {
     "name": "stderr",
     "output_type": "stream",
     "text": [
      "Exception raised in Job[49]: APIConnectionError(Connection error.)\n",
      "Exception raised in Job[64]: RateLimitError(Error code: 429 - {'error': {'message': 'Rate limit reached for gpt-4.1-mini in organization org-7Afz73t5u8875SgyGqpWnq4o on tokens per min (TPM): Limit 200000, Used 197454, Requested 5249. Please try again in 810ms. Visit https://platform.openai.com/account/rate-limits to learn more.', 'type': 'tokens', 'param': None, 'code': 'rate_limit_exceeded'}})\n",
      "Exception raised in Job[79]: RateLimitError(Error code: 429 - {'error': {'message': 'Rate limit reached for gpt-4.1-mini in organization org-7Afz73t5u8875SgyGqpWnq4o on tokens per min (TPM): Limit 200000, Used 198380, Requested 6416. Please try again in 1.438s. Visit https://platform.openai.com/account/rate-limits to learn more.', 'type': 'tokens', 'param': None, 'code': 'rate_limit_exceeded'}})\n",
      "Exception raised in Job[113]: InternalServerError(upstream connect error or disconnect/reset before headers. reset reason: connection termination)\n",
      "Exception raised in Job[115]: RateLimitError(Error code: 429 - {'error': {'message': 'Rate limit reached for gpt-4.1-mini in organization org-7Afz73t5u8875SgyGqpWnq4o on tokens per min (TPM): Limit 200000, Used 197764, Requested 5704. Please try again in 1.04s. Visit https://platform.openai.com/account/rate-limits to learn more.', 'type': 'tokens', 'param': None, 'code': 'rate_limit_exceeded'}})\n"
     ]
    }
   ],
   "source": [
    "ensemble_result = evaluate(\n",
    "    dataset=ensemble_evaluation_dataset,\n",
    "    metrics=[LLMContextRecall(), Faithfulness(), FactualCorrectness(), ResponseRelevancy(), ContextEntityRecall(), NoiseSensitivity()],\n",
    "    llm=evaluator_llm,\n",
    "    run_config=custom_run_config\n",
    ")"
   ]
  },
  {
   "cell_type": "code",
   "execution_count": 28,
   "id": "69278850",
   "metadata": {},
   "outputs": [
    {
     "data": {
      "text/plain": [
       "{'context_recall': 0.8733, 'faithfulness': 0.8921, 'factual_correctness': 0.6136, 'answer_relevancy': 0.8749, 'context_entity_recall': 0.4100, 'noise_sensitivity_relevant': 0.2213}"
      ]
     },
     "execution_count": 28,
     "metadata": {},
     "output_type": "execute_result"
    }
   ],
   "source": [
    "ensemble_result"
   ]
  },
  {
   "cell_type": "markdown",
   "id": "3427f276",
   "metadata": {},
   "source": [
    "# Build BM25 Graph"
   ]
  },
  {
   "cell_type": "code",
   "execution_count": 29,
   "id": "60b5ef33",
   "metadata": {},
   "outputs": [],
   "source": [
    "from utils.bm25_rag_graph import build_rag_graph\n",
    "\n",
    "bm25_graph = build_rag_graph()"
   ]
  },
  {
   "cell_type": "markdown",
   "id": "39ab04ba",
   "metadata": {},
   "source": [
    "# Evaluate BM25 Graph"
   ]
  },
  {
   "cell_type": "code",
   "execution_count": 30,
   "id": "d453fb57",
   "metadata": {},
   "outputs": [],
   "source": [
    "for test_row in bm25_testset:\n",
    "  response = bm25_graph.invoke({\"question\" : test_row.eval_sample.user_input})\n",
    "  test_row.eval_sample.response = response[\"response\"]\n",
    "  test_row.eval_sample.retrieved_contexts = [context.page_content for context in response[\"context\"]]"
   ]
  },
  {
   "cell_type": "code",
   "execution_count": 31,
   "id": "8478e0b5",
   "metadata": {},
   "outputs": [],
   "source": [
    "\n",
    "bm25_evaluation_dataset = EvaluationDataset.from_pandas(bm25_testset.to_pandas())"
   ]
  },
  {
   "cell_type": "code",
   "execution_count": 32,
   "id": "5c8db101",
   "metadata": {},
   "outputs": [
    {
     "data": {
      "application/vnd.jupyter.widget-view+json": {
       "model_id": "376a823812f541558b39d42daa3ce3e0",
       "version_major": 2,
       "version_minor": 0
      },
      "text/plain": [
       "Evaluating:   0%|          | 0/150 [00:00<?, ?it/s]"
      ]
     },
     "metadata": {},
     "output_type": "display_data"
    },
    {
     "name": "stderr",
     "output_type": "stream",
     "text": [
      "Exception raised in Job[62]: AttributeError('StringIO' object has no attribute 'statements')\n",
      "Exception raised in Job[97]: APIConnectionError(Connection error.)\n",
      "Exception raised in Job[84]: RateLimitError(Error code: 429 - {'error': {'message': 'Rate limit reached for gpt-4.1-mini in organization org-7Afz73t5u8875SgyGqpWnq4o on tokens per min (TPM): Limit 200000, Used 197426, Requested 4231. Please try again in 497ms. Visit https://platform.openai.com/account/rate-limits to learn more.', 'type': 'tokens', 'param': None, 'code': 'rate_limit_exceeded'}})\n",
      "Exception raised in Job[79]: RateLimitError(Error code: 429 - {'error': {'message': 'Rate limit reached for gpt-4.1-mini in organization org-7Afz73t5u8875SgyGqpWnq4o on tokens per min (TPM): Limit 200000, Used 200000, Requested 5429. Please try again in 1.628s. Visit https://platform.openai.com/account/rate-limits to learn more.', 'type': 'tokens', 'param': None, 'code': 'rate_limit_exceeded'}})\n"
     ]
    }
   ],
   "source": [
    "bm25_result = evaluate(\n",
    "    dataset=bm25_evaluation_dataset,\n",
    "    metrics=[LLMContextRecall(), Faithfulness(), FactualCorrectness(), ResponseRelevancy(), ContextEntityRecall(), NoiseSensitivity()],\n",
    "    llm=evaluator_llm,\n",
    "    run_config=custom_run_config\n",
    ")"
   ]
  },
  {
   "cell_type": "code",
   "execution_count": 33,
   "id": "ea5101ce",
   "metadata": {},
   "outputs": [
    {
     "data": {
      "text/plain": [
       "{'context_recall': 0.7222, 'faithfulness': 0.8584, 'factual_correctness': 0.4504, 'answer_relevancy': 0.8353, 'context_entity_recall': 0.3336, 'noise_sensitivity_relevant': 0.3783}"
      ]
     },
     "execution_count": 33,
     "metadata": {},
     "output_type": "execute_result"
    }
   ],
   "source": [
    "bm25_result"
   ]
  },
  {
   "cell_type": "markdown",
   "id": "269bfb12",
   "metadata": {},
   "source": [
    "# Build Contextual Compression Graph"
   ]
  },
  {
   "cell_type": "code",
   "execution_count": 34,
   "id": "f488624e",
   "metadata": {},
   "outputs": [],
   "source": [
    "from utils.compression_rag_graph import build_rag_graph\n",
    "\n",
    "compression_graph = build_rag_graph()"
   ]
  },
  {
   "cell_type": "markdown",
   "id": "0d740e7e",
   "metadata": {},
   "source": [
    "# Evaluate Contextual Compression Graph"
   ]
  },
  {
   "cell_type": "code",
   "execution_count": 35,
   "id": "4421cd09",
   "metadata": {},
   "outputs": [],
   "source": [
    "for test_row in compression_testset:\n",
    "  response = compression_graph.invoke({\"question\" : test_row.eval_sample.user_input})\n",
    "  test_row.eval_sample.response = response[\"response\"]\n",
    "  test_row.eval_sample.retrieved_contexts = [context.page_content for context in response[\"context\"]]"
   ]
  },
  {
   "cell_type": "code",
   "execution_count": 36,
   "id": "a1df7986",
   "metadata": {},
   "outputs": [],
   "source": [
    "\n",
    "compression_evaluation_dataset = EvaluationDataset.from_pandas(compression_testset.to_pandas())"
   ]
  },
  {
   "cell_type": "code",
   "execution_count": 37,
   "id": "9586244a",
   "metadata": {},
   "outputs": [
    {
     "data": {
      "application/vnd.jupyter.widget-view+json": {
       "model_id": "492cdaddef6e48f9ada37ae3309f656e",
       "version_major": 2,
       "version_minor": 0
      },
      "text/plain": [
       "Evaluating:   0%|          | 0/150 [00:00<?, ?it/s]"
      ]
     },
     "metadata": {},
     "output_type": "display_data"
    }
   ],
   "source": [
    "compression_result = evaluate(\n",
    "    dataset=compression_evaluation_dataset,\n",
    "    metrics=[LLMContextRecall(), Faithfulness(), FactualCorrectness(), ResponseRelevancy(), ContextEntityRecall(), NoiseSensitivity()],\n",
    "    llm=evaluator_llm,\n",
    "    run_config=custom_run_config\n",
    ")"
   ]
  },
  {
   "cell_type": "code",
   "execution_count": null,
   "id": "7098be7d",
   "metadata": {},
   "outputs": [
    {
     "data": {
      "text/plain": [
       "{'context_recall': 0.7527, 'faithfulness': 0.8238, 'factual_correctness': 0.6252, 'answer_relevancy': 0.8091, 'context_entity_recall': 0.6294, 'noise_sensitivity_relevant': 0.0762}"
      ]
     },
     "execution_count": 38,
     "metadata": {},
     "output_type": "execute_result"
    }
   ],
   "source": [
    "compression_result"
   ]
  },
  {
   "cell_type": "markdown",
   "id": "85adea06",
   "metadata": {},
   "source": [
    "# Rag Graph Comparison"
   ]
  },
  {
   "cell_type": "code",
   "execution_count": 51,
   "id": "da649287",
   "metadata": {},
   "outputs": [
    {
     "name": "stdout",
     "output_type": "stream",
     "text": [
      "Naive Result:  {'context_recall': 0.7993, 'faithfulness': 0.7426, 'factual_correctness': 0.6244, 'answer_relevancy': 0.8102, 'context_entity_recall': 0.5970, 'noise_sensitivity_relevant': 0.1215}\n",
      "\n",
      "BM25 Result:  {'context_recall': 0.7222, 'faithfulness': 0.8584, 'factual_correctness': 0.4504, 'answer_relevancy': 0.8353, 'context_entity_recall': 0.3336, 'noise_sensitivity_relevant': 0.3783}\n",
      "\n",
      "Contextual Compression Result:  {'context_recall': 0.7527, 'faithfulness': 0.8238, 'factual_correctness': 0.6252, 'answer_relevancy': 0.8091, 'context_entity_recall': 0.6294, 'noise_sensitivity_relevant': 0.0762}\n",
      "\n",
      "Ensemble Result:  {'context_recall': 0.8733, 'faithfulness': 0.8921, 'factual_correctness': 0.6136, 'answer_relevancy': 0.8749, 'context_entity_recall': 0.4100, 'noise_sensitivity_relevant': 0.2213}\n"
     ]
    }
   ],
   "source": [
    "print(\"Naive Result: \", naive_result)\n",
    "print()\n",
    "print(\"BM25 Result: \", bm25_result)\n",
    "print()\n",
    "print(\"Contextual Compression Result: \", compression_result)\n",
    "print()\n",
    "print(\"Ensemble Result: \", ensemble_result)"
   ]
  },
  {
   "cell_type": "code",
   "execution_count": 52,
   "id": "288498f3",
   "metadata": {},
   "outputs": [],
   "source": [
    "naive_result_dict = {'context_recall': 0.7993, 'faithfulness': 0.7426, 'factual_correctness': 0.6244, 'answer_relevancy': 0.8102, 'context_entity_recall': 0.5970, 'noise_sensitivity_relevant': 0.1215}\n",
    "bm25_result_dict = {'context_recall': 0.7222, 'faithfulness': 0.8584, 'factual_correctness': 0.4504, 'answer_relevancy': 0.8353, 'context_entity_recall': 0.3336, 'noise_sensitivity_relevant': 0.3783}\n",
    "compression_result_dict = {'context_recall': 0.7527, 'faithfulness': 0.8238, 'factual_correctness': 0.6252, 'answer_relevancy': 0.8091, 'context_entity_recall': 0.6294, 'noise_sensitivity_relevant': 0.0762}\n",
    "ensemble_result_dict = {'context_recall': 0.8733, 'faithfulness': 0.8921, 'factual_correctness': 0.6136, 'answer_relevancy': 0.8749, 'context_entity_recall': 0.4100, 'noise_sensitivity_relevant': 0.2213}"
   ]
  },
  {
   "cell_type": "code",
   "execution_count": 54,
   "id": "3b9103e9",
   "metadata": {},
   "outputs": [
    {
     "data": {
      "text/html": [
       "<div>\n",
       "<style scoped>\n",
       "    .dataframe tbody tr th:only-of-type {\n",
       "        vertical-align: middle;\n",
       "    }\n",
       "\n",
       "    .dataframe tbody tr th {\n",
       "        vertical-align: top;\n",
       "    }\n",
       "\n",
       "    .dataframe thead th {\n",
       "        text-align: right;\n",
       "    }\n",
       "</style>\n",
       "<table border=\"1\" class=\"dataframe\">\n",
       "  <thead>\n",
       "    <tr style=\"text-align: right;\">\n",
       "      <th></th>\n",
       "      <th>context_recall</th>\n",
       "      <th>faithfulness</th>\n",
       "      <th>factual_correctness</th>\n",
       "      <th>answer_relevancy</th>\n",
       "      <th>context_entity_recall</th>\n",
       "      <th>noise_sensitivity_relevant</th>\n",
       "    </tr>\n",
       "  </thead>\n",
       "  <tbody>\n",
       "    <tr>\n",
       "      <th>Naive</th>\n",
       "      <td>0.7993</td>\n",
       "      <td>0.7426</td>\n",
       "      <td>0.6244</td>\n",
       "      <td>0.8102</td>\n",
       "      <td>0.5970</td>\n",
       "      <td>0.1215</td>\n",
       "    </tr>\n",
       "    <tr>\n",
       "      <th>BM25</th>\n",
       "      <td>0.7222</td>\n",
       "      <td>0.8584</td>\n",
       "      <td>0.4504</td>\n",
       "      <td>0.8353</td>\n",
       "      <td>0.3336</td>\n",
       "      <td>0.3783</td>\n",
       "    </tr>\n",
       "    <tr>\n",
       "      <th>Contextual Compression</th>\n",
       "      <td>0.7527</td>\n",
       "      <td>0.8238</td>\n",
       "      <td>0.6252</td>\n",
       "      <td>0.8091</td>\n",
       "      <td>0.6294</td>\n",
       "      <td>0.0762</td>\n",
       "    </tr>\n",
       "    <tr>\n",
       "      <th>BM25 + Naive Ensemble</th>\n",
       "      <td>0.8733</td>\n",
       "      <td>0.8921</td>\n",
       "      <td>0.6136</td>\n",
       "      <td>0.8749</td>\n",
       "      <td>0.4100</td>\n",
       "      <td>0.2213</td>\n",
       "    </tr>\n",
       "  </tbody>\n",
       "</table>\n",
       "</div>"
      ],
      "text/plain": [
       "                        context_recall  faithfulness  factual_correctness  \\\n",
       "Naive                           0.7993        0.7426               0.6244   \n",
       "BM25                            0.7222        0.8584               0.4504   \n",
       "Contextual Compression          0.7527        0.8238               0.6252   \n",
       "BM25 + Naive Ensemble           0.8733        0.8921               0.6136   \n",
       "\n",
       "                        answer_relevancy  context_entity_recall  \\\n",
       "Naive                             0.8102                 0.5970   \n",
       "BM25                              0.8353                 0.3336   \n",
       "Contextual Compression            0.8091                 0.6294   \n",
       "BM25 + Naive Ensemble             0.8749                 0.4100   \n",
       "\n",
       "                        noise_sensitivity_relevant  \n",
       "Naive                                       0.1215  \n",
       "BM25                                        0.3783  \n",
       "Contextual Compression                      0.0762  \n",
       "BM25 + Naive Ensemble                       0.2213  "
      ]
     },
     "execution_count": 54,
     "metadata": {},
     "output_type": "execute_result"
    }
   ],
   "source": [
    "import pandas as pd\n",
    "\n",
    "comparison = pd.DataFrame([naive_result_dict, bm25_result_dict, compression_result_dict, ensemble_result_dict], index=[\"Naive\", \"BM25\", \"Contextual Compression\", \"BM25 + Naive Ensemble\"])\n",
    "comparison\n"
   ]
  }
 ],
 "metadata": {
  "kernelspec": {
   "display_name": ".venv",
   "language": "python",
   "name": "python3"
  },
  "language_info": {
   "codemirror_mode": {
    "name": "ipython",
    "version": 3
   },
   "file_extension": ".py",
   "mimetype": "text/x-python",
   "name": "python",
   "nbconvert_exporter": "python",
   "pygments_lexer": "ipython3",
   "version": "3.13.5"
  }
 },
 "nbformat": 4,
 "nbformat_minor": 5
}
